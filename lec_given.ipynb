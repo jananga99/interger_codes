{
 "cells": [
  {
   "cell_type": "code",
   "execution_count": 1,
   "id": "e60a385a",
   "metadata": {
    "scrolled": true
   },
   "outputs": [],
   "source": [
    "# pip install pulp\n"
   ]
  },
  {
   "cell_type": "markdown",
   "id": "c3b0e1ca",
   "metadata": {},
   "source": [
    "# Q3"
   ]
  },
  {
   "cell_type": "code",
   "execution_count": 2,
   "id": "580c13b3",
   "metadata": {},
   "outputs": [
    {
     "ename": "NameError",
     "evalue": "name 'LpBinary' is not defined",
     "output_type": "error",
     "traceback": [
      "\u001b[0;31m---------------------------------------------------------------------------\u001b[0m",
      "\u001b[0;31mNameError\u001b[0m                                 Traceback (most recent call last)",
      "Cell \u001b[0;32mIn[2], line 7\u001b[0m\n\u001b[1;32m      4\u001b[0m prob \u001b[38;5;241m=\u001b[39m LpProblem(name\u001b[38;5;241m=\u001b[39m\u001b[38;5;124m\"\u001b[39m\u001b[38;5;124mMaximize_Profit\u001b[39m\u001b[38;5;124m\"\u001b[39m, sense\u001b[38;5;241m=\u001b[39mLpMaximize)\n\u001b[1;32m      6\u001b[0m \u001b[38;5;66;03m# Define decision variables\u001b[39;00m\n\u001b[0;32m----> 7\u001b[0m y1 \u001b[38;5;241m=\u001b[39m LpVariable(name\u001b[38;5;241m=\u001b[39m\u001b[38;5;124m\"\u001b[39m\u001b[38;5;124my1\u001b[39m\u001b[38;5;124m\"\u001b[39m, cat\u001b[38;5;241m=\u001b[39m\u001b[43mLpBinary\u001b[49m)\n\u001b[1;32m      8\u001b[0m y2 \u001b[38;5;241m=\u001b[39m LpVariable(name\u001b[38;5;241m=\u001b[39m\u001b[38;5;124m\"\u001b[39m\u001b[38;5;124my2\u001b[39m\u001b[38;5;124m\"\u001b[39m, cat\u001b[38;5;241m=\u001b[39mLpBinary)\n\u001b[1;32m      9\u001b[0m y3 \u001b[38;5;241m=\u001b[39m LpVariable(name\u001b[38;5;241m=\u001b[39m\u001b[38;5;124m\"\u001b[39m\u001b[38;5;124my3\u001b[39m\u001b[38;5;124m\"\u001b[39m, cat\u001b[38;5;241m=\u001b[39mLpBinary)\n",
      "\u001b[0;31mNameError\u001b[0m: name 'LpBinary' is not defined"
     ]
    }
   ],
   "source": [
    "from pulp import LpMaximize, LpProblem, LpVariable\n",
    "\n",
    "# Create a linear programming problem\n",
    "prob = LpProblem(name=\"Maximize_Profit\", sense=LpMaximize)\n",
    "\n",
    "# Define decision variables\n",
    "y1 = LpVariable(name=\"y1\", cat=LpBinary)\n",
    "y2 = LpVariable(name=\"y2\", cat=LpBinary)\n",
    "y3 = LpVariable(name=\"y3\", cat=LpBinary)\n",
    "y4 = LpVariable(name=\"y4\", cat=LpBinary)\n",
    "\n",
    "# Define the objective function\n",
    "prob += 9 * y1 + 5 * y2 + 6 * y3 + 4* y4, \"Profit\"\n",
    "\n",
    "# Add constraints\n",
    "prob += 6 * y1 + 3 * y2 + 5 * y3 + 2 * y4 <= 10, \"Constraint1\"\n",
    "prob += y3 + y4 <= 1, \"Constraint2\"\n",
    "prob += y1 >= y3, \"Constraint3\"\n",
    "prob += y2 >= y4, \"Constraint4\"\n",
    "\n",
    "# Solve the problem\n",
    "prob.solve()\n",
    "\n",
    "# Print the results\n",
    "print(\"Status:\", prob.status)\n",
    "print(\"Objective Value (Profit):\", round(prob.objective.value(), 2))\n",
    "\n",
    "# Print the values of decision variables\n",
    "for var in prob.variables():\n",
    "    print(f\"{var.name} = {var.value()}\")\n"
   ]
  },
  {
   "cell_type": "markdown",
   "id": "ca702596",
   "metadata": {},
   "source": [
    "# Q4"
   ]
  },
  {
   "cell_type": "code",
   "execution_count": null,
   "id": "62340aca",
   "metadata": {},
   "outputs": [
    {
     "name": "stdout",
     "output_type": "stream",
     "text": [
      "Status: 1\n",
      "Objective Value (Return): 69.5\n",
      "y1 = 1.0\n",
      "y10 = 1.0\n",
      "y2 = 1.0\n",
      "y3 = 1.0\n",
      "y4 = 1.0\n",
      "y5 = 0.0\n",
      "y6 = 1.0\n",
      "y7 = 1.0\n",
      "y8 = 1.0\n",
      "y9 = 0.0\n"
     ]
    }
   ],
   "source": [
    "from pulp import LpMaximize, LpProblem, LpVariable\n",
    "\n",
    "# Define the coefficients for the Return function\n",
    "R = [8,9.5,8.5,7.5,9.5,10,9,8,10,9]\n",
    "# Define the cost vector for each Project\n",
    "C = [5,6,5.5,7,8,6.5,7.5,5,8.5,8]\n",
    "# Create a linear programming problem\n",
    "prob = LpProblem(name=\"Maximize_Return\", sense=LpMaximize)\n",
    "\n",
    "# Define decision variables\n",
    "y = [LpVariable(name=f\"y{i}\", cat=LpBinary) for i in range(1, 11)]\n",
    "\n",
    "# Define the Return function\n",
    "Return = sum([R_i * y_i for R_i, y_i in zip(R, y)])\n",
    "\n",
    "# Define the objective function\n",
    "prob += Return, \"Objective\"\n",
    "\n",
    "# Add constraints\n",
    "prob += sum([C_i * y_i for C_i, y_i in zip(C,y)]) <=60,\"Constraint1\"\n",
    "prob += sum([y_i for y_i in y[:6]]) >= 2, \"Constraint2\"\n",
    "prob += sum([y_i for y_i in y[6:]]) >= 2, \"Constraint3\"\n",
    "prob += sum([y_i for y_i in y]) >= 5, \"Constraint4\"\n",
    "prob += sum([y_i for y_i in y[:6]]) <= 5, \"Constraint5\"\n",
    "prob += sum([y_i for y_i in y[6:]]) <= 3, \"Constraint6\"\n",
    "prob += sum([y_i for y_i in y]) <= 9, \"Constraint7\"\n",
    "prob += y[1] + y[4] <= 1, \"Constraint8\"\n",
    "prob += y[8] + y[9] == 1, \"Constraint9\"\n",
    "prob += y[2] == y[6], \"Constraint10\"\n",
    "prob += y[2] + y[3] <= y[5] + 1, \"Constraint11\"\n",
    "prob += y[3] <= y[5] + y[6], \"Constraint12\"\n",
    "prob += 2 * y[2] <= y[3] + y[7], \"Constraint13\"\n",
    "prob += y[5] <= y[9], \"Constraint14\"\n",
    "\n",
    "# Solve the problem\n",
    "prob.solve()\n",
    "\n",
    "# Print the results\n",
    "print(\"Status:\", prob.status)\n",
    "print(\"Objective Value (Return):\", round(prob.objective.value(), 2))\n",
    "\n",
    "# Print the values of decision variables\n",
    "for var in prob.variables():\n",
    "    print(f\"{var.name} = {var.value()}\")\n"
   ]
  },
  {
   "cell_type": "markdown",
   "id": "7ec75304",
   "metadata": {},
   "source": [
    "# Q5"
   ]
  },
  {
   "cell_type": "code",
   "execution_count": null,
   "id": "5c60ca52",
   "metadata": {},
   "outputs": [
    {
     "name": "stdout",
     "output_type": "stream",
     "text": [
      "Status: 1\n",
      "Objective Value (Return): 4.5\n",
      "y1 = 1.0\n",
      "y10 = 0.0\n",
      "y11 = 0.0\n",
      "y2 = 0.0\n",
      "y3 = 1.0\n",
      "y4 = 0.0\n",
      "y5 = 0.0\n",
      "y6 = 0.0\n",
      "y7 = 0.0\n",
      "y8 = 0.0\n",
      "y9 = 0.0\n"
     ]
    }
   ],
   "source": [
    "from pulp import LpMaximize, LpProblem, LpVariable\n",
    "\n",
    "\n",
    "# Define the cost vector for each tower\n",
    "C = [2,3,2.5,5,4,1.5,3.5,6,4.5,5.5,6]\n",
    "# Create a linear programming problem\n",
    "prob = LpProblem(\"Construction_Cost_Minimization\", LpMinimize)\n",
    "\n",
    "# Define decision variables\n",
    "y = [LpVariable(name=f\"y{i}\", cat=LpBinary) for i in range(1, 12)]\n",
    "\n",
    "# Define the Return function\n",
    "Return = sum([C_i * y_i for C_i, y_i in zip(C, y)])\n",
    "\n",
    "# Define the objective function\n",
    "prob += Return, \"Objective\"\n",
    "\n",
    "# Add constraints\n",
    "prob += y[0] + y[4]+ y[6]+ y[7]+ y[9] >= 1, \"Constraint1\"\n",
    "prob += y[1] + y[2]+ y[3]+ y[10] >= 1, \"Constraint2\"\n",
    "prob += y[0] + y[1]+ y[2]+ y[5] >= 1, \"Constraint3\"\n",
    "prob += y[0] + y[7]+ y[9]+ y[10] >= 1, \"Constraint4\"\n",
    "prob += y[2] + y[3]+ y[4]+ y[7] >= 1,\"Constraint5\"\n",
    "prob += y[0] + y[1]+ y[7]+ y[9] >= 1, \"Constraint6\"\n",
    "\n",
    "# Solve the problem\n",
    "prob.solve()\n",
    "\n",
    "# Print the results\n",
    "print(\"Status:\", prob.status)\n",
    "print(\"Objective Value (Return):\", round(prob.objective.value(), 2))\n",
    "\n",
    "# Print the values of decision variables\n",
    "for var in prob.variables():\n",
    "    print(f\"{var.name} = {var.value()}\")"
   ]
  },
  {
   "cell_type": "markdown",
   "id": "ca1a33b3",
   "metadata": {},
   "source": [
    "# Q11"
   ]
  },
  {
   "cell_type": "code",
   "execution_count": null,
   "id": "2192bddd",
   "metadata": {
    "scrolled": true
   },
   "outputs": [
    {
     "name": "stdout",
     "output_type": "stream",
     "text": [
      "Objective Value (Profit): 7.0\n",
      "y_1_1: 0.0\n",
      "y_1_2: 1.0\n",
      "y_1_3: 0.0\n",
      "y_2_1: 0.0\n",
      "y_2_2: 0.0\n",
      "y_2_3: 0.0\n",
      "y_3_1: 0.0\n",
      "y_3_2: 0.0\n",
      "y_3_3: 1.0\n"
     ]
    }
   ],
   "source": [
    "from pulp import LpVariable, LpProblem, lpSum, LpMaximize\n",
    "\n",
    "# Create a linear programming problem\n",
    "prob = LpProblem(\"Profit_Maximization\", LpMaximize)\n",
    "\n",
    "# Define binary variables\n",
    "y = {(i, j): LpVariable(name=f\"y_{i}_{j}\", cat='Binary') for i in range(1, 4) for j in range(1, 4)}\n",
    "\n",
    "# Define the objective function\n",
    "prob += lpSum([y[1, 1], 3 * y[1, 2], 3 * y[1, 3], 2 * y[2, 2], 3 * y[2, 3], -y[3, 1], 2 * y[3, 2], 4 * y[3, 3]])\n",
    "\n",
    "# Define the constraints\n",
    "prob += lpSum([y[1, 1], y[1, 2], y[1, 3]]) <= 1\n",
    "prob += lpSum([y[2, 1], y[2, 2], y[2, 3]]) <= 1\n",
    "prob += lpSum([y[3, 1], y[3, 2], y[3, 3]]) <= 1\n",
    "prob += lpSum([y[1, 1], 2* y[1, 2], 3 * y[1, 3], y[2, 1], 2 * y[2, 2], 3 * y[2, 3], y[3, 1], 2 * y[3, 2], 3 * y[3, 3]]) == 5\n",
    "\n",
    "# Solve the problem\n",
    "prob.solve()\n",
    "\n",
    "# Print the results\n",
    "print(\"Objective Value (Profit):\", prob.objective.value())\n",
    "for var in prob.variables():\n",
    "    print(f\"{var.name}: {var.value()}\")\n"
   ]
  },
  {
   "cell_type": "markdown",
   "id": "db9eba4e",
   "metadata": {},
   "source": [
    "# Q12"
   ]
  },
  {
   "cell_type": "code",
   "execution_count": null,
   "id": "6d9435df",
   "metadata": {
    "scrolled": true
   },
   "outputs": [
    {
     "name": "stdout",
     "output_type": "stream",
     "text": [
      "Objective Value (Waste): 13.0\n",
      "x_1: 0.0\n",
      "x_2: 3.0\n",
      "x_3: 0.0\n",
      "x_4: 0.0\n",
      "x_5: 15.0\n",
      "x_6: 1.0\n"
     ]
    }
   ],
   "source": [
    "from pulp import LpVariable, LpProblem, lpSum, LpMinimize, LpInteger\n",
    "\n",
    "# Create a linear programming problem\n",
    "prob = LpProblem(\"Waste_Minimization\", LpMinimize)\n",
    "\n",
    "# Define integer variables\n",
    "x = [LpVariable(name=f\"x_{i}\", lowBound=0, cat=LpInteger) for i in range(1, 7)]\n",
    "\n",
    "# Define the objective function\n",
    "prob += 17*lpSum(x)-(25 * 3 + 20 * 5 + 15 * 9) \n",
    "\n",
    "# Define the constraints\n",
    "prob += 5 * x[0] + 4 * x[1] + 2 * x[2] + 2 * x[3] + x[4] >= 25\n",
    "prob += x[1] + 2 * x[2] + x[4] + 3 * x[5] >= 20\n",
    "prob += x[3] + x[4] >= 15\n",
    "\n",
    "# Solve the problem\n",
    "prob.solve()\n",
    "\n",
    "# Print the results\n",
    "print(\"Objective Value (Waste):\", prob.objective.value())\n",
    "for var in prob.variables():\n",
    "    print(f\"{var.name}: {var.value()}\")\n"
   ]
  },
  {
   "cell_type": "markdown",
   "id": "756455ce",
   "metadata": {},
   "source": [
    "# Q12 Alternative Formulation "
   ]
  },
  {
   "cell_type": "code",
   "execution_count": null,
   "id": "4dc757dd",
   "metadata": {
    "scrolled": true
   },
   "outputs": [
    {
     "name": "stdout",
     "output_type": "stream",
     "text": [
      "Objective Value (Waste): 13.0\n",
      "x_1: 0.0\n",
      "x_2: 1.0\n",
      "x_3: 1.0\n",
      "x_4: 4.0\n",
      "x_5: 11.0\n",
      "x_6: 2.0\n"
     ]
    }
   ],
   "source": [
    "from pulp import LpVariable, LpProblem, lpSum, LpMinimize, LpInteger\n",
    "\n",
    "# Create a linear programming problem\n",
    "prob = LpProblem(\"Waste_Minimization\", LpMinimize)\n",
    "\n",
    "# Define integer variables\n",
    "x = [LpVariable(name=f\"x_{i}\", lowBound=0, cat=LpInteger) for i in range(1, 7)]\n",
    "w = [2,0,1,2,0,2]\n",
    "\n",
    "# Define the objective function\n",
    "prob +=  sum([w_i * x_i for w_i, x_i in zip(w,x)])\n",
    "\n",
    "# Define the constraints\n",
    "prob += 5 * x[0] + 4 * x[1] + 2 * x[2] + 2 * x[3] + x[4] == 25\n",
    "prob += x[1] + 2 * x[2] + x[4] + 3 * x[5] == 20\n",
    "prob += x[3] + x[4] == 15\n",
    "\n",
    "# Solve the problem\n",
    "prob.solve()\n",
    "\n",
    "# Print the results\n",
    "print(\"Objective Value (Waste):\", prob.objective.value())\n",
    "for var in prob.variables():\n",
    "    print(f\"{var.name}: {var.value()}\")"
   ]
  },
  {
   "cell_type": "markdown",
   "id": "144c5003",
   "metadata": {},
   "source": [
    "# Q7"
   ]
  },
  {
   "cell_type": "code",
   "execution_count": null,
   "id": "4f69747a",
   "metadata": {},
   "outputs": [
    {
     "name": "stdout",
     "output_type": "stream",
     "text": [
      "Objective Value (Profit): 54.0\n",
      "k_1: 1.0\n",
      "k_2: 0.0\n",
      "x_1: 6.0\n",
      "x_2: 0.0\n",
      "x_3: 8.0\n",
      "y_1: 1.0\n",
      "y_2: 0.0\n",
      "y_3: 1.0\n"
     ]
    }
   ],
   "source": [
    "from pulp import LpVariable, LpProblem, lpSum, LpMaximize, LpBinary\n",
    "\n",
    "# Create a linear programming problem\n",
    "prob = LpProblem(\"Profit_Maximization\", LpMaximize)\n",
    "\n",
    "# Define variables\n",
    "x = [LpVariable(name=f\"x_{i}\", lowBound=0, cat=LpInteger) for i in range(1, 4)]\n",
    "y = [LpVariable(name=f\"y_{i}\", cat=LpBinary) for i in range(1, 4)]\n",
    "k = [LpVariable(name=f\"k_{i}\", cat=LpBinary) for i in range(1, 3)]\n",
    "\n",
    "# Define M values (big-M)\n",
    "M1 = 1000  # Adjust as needed\n",
    "M2 = 1000  # Adjust as needed\n",
    "\n",
    "# Define the objective function\n",
    "prob += 5 * x[0] + 7 * x[1] + 3 * x[2]\n",
    "\n",
    "# Define the constraints\n",
    "prob += x[0] <= 7 * y[0]\n",
    "prob += x[1] <= 5 * y[1]\n",
    "prob += x[2] <= 9 * y[2]\n",
    "prob += lpSum(y) <= 2\n",
    "prob += 3 * x[0] + 4 * x[1] + 2 * x[2] <= 30 + M1 * k[0]\n",
    "prob += 4 * x[0] + 6 * x[1] + 2 * x[2] <= 40 + M2 * k[1]\n",
    "prob += lpSum(k) == 1\n",
    "\n",
    "# Solve the problem\n",
    "prob.solve()\n",
    "\n",
    "# Print the results\n",
    "print(\"Objective Value (Profit):\", prob.objective.value())\n",
    "for var in prob.variables():\n",
    "    print(f\"{var.name}: {var.value()}\")\n"
   ]
  },
  {
   "cell_type": "code",
   "execution_count": null,
   "id": "58cdb473",
   "metadata": {},
   "outputs": [],
   "source": []
  }
 ],
 "metadata": {
  "kernelspec": {
   "display_name": "Python 3 (ipykernel)",
   "language": "python",
   "name": "python3"
  },
  "language_info": {
   "codemirror_mode": {
    "name": "ipython",
    "version": 3
   },
   "file_extension": ".py",
   "mimetype": "text/x-python",
   "name": "python",
   "nbconvert_exporter": "python",
   "pygments_lexer": "ipython3",
   "version": "3.10.12"
  }
 },
 "nbformat": 4,
 "nbformat_minor": 5
}
